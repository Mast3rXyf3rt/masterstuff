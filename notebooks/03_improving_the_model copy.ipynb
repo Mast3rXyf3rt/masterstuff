{
 "cells": [
  {
   "cell_type": "code",
   "execution_count": 1,
   "metadata": {},
   "outputs": [],
   "source": [
    "%load_ext autoreload\n",
    "%autoreload 2"
   ]
  },
  {
   "cell_type": "code",
   "execution_count": 2,
   "metadata": {},
   "outputs": [
    {
     "name": "stdout",
     "output_type": "stream",
     "text": [
      "/notebooks\n"
     ]
    }
   ],
   "source": [
    "cd /notebooks/"
   ]
  },
  {
   "cell_type": "code",
   "execution_count": 3,
   "metadata": {},
   "outputs": [],
   "source": [
    "import numpy as np\n",
    "import torch\n",
    "import matplotlib.pyplot as plt\n",
    "from torch import nn\n",
    "from tqdm.notebook import trange, tqdm\n",
    "from digital_twin_library import SubsetSampler, corr\n",
    "import seaborn as sns\n",
    "from neuralpredictors.data.datasets import FileTreeDataset\n",
    "from neuralpredictors.measures.modules import PoissonLoss\n",
    "from torch.utils.data import DataLoader\n",
    "\n",
    "from neuralpredictors.data.transforms import (\n",
    "    ToTensor,\n",
    "    NeuroNormalizer,\n",
    "    ScaleInputs,\n",
    ")\n"
   ]
  },
  {
   "cell_type": "markdown",
   "metadata": {},
   "source": [
    "# Improving the model"
   ]
  },
  {
   "cell_type": "code",
   "execution_count": 4,
   "metadata": {},
   "outputs": [],
   "source": [
    "device = torch.device(\"cuda:0\" if torch.cuda.is_available() else \"cpu\")"
   ]
  },
  {
   "cell_type": "markdown",
   "metadata": {},
   "source": [
    "## Clearning up the code"
   ]
  },
  {
   "cell_type": "markdown",
   "metadata": {},
   "source": [
    "Configure the dataset, samplers and loaders"
   ]
  },
  {
   "cell_type": "code",
   "execution_count": 5,
   "metadata": {},
   "outputs": [],
   "source": [
    "root_dir = 'data/static21067-10-18-GrayImageNet-94c6ff995dac583098847cfecd43e7b6'\n",
    "dat = FileTreeDataset(root_dir, 'images', 'responses')\n",
    "\n",
    "transforms = [ScaleInputs(scale=0.25), ToTensor(torch.cuda.is_available())]\n",
    "transforms.insert(0, NeuroNormalizer(dat))\n",
    "dat.transforms.extend(transforms)\n",
    "\n",
    "train_sampler = SubsetSampler(dat.trial_info.tiers == 'train', shuffle=True)\n",
    "test_sampler = SubsetSampler(dat.trial_info.tiers == 'test', shuffle=False)\n",
    "val_sampler = SubsetSampler(dat.trial_info.tiers == 'validation', shuffle=False)\n",
    "\n",
    "train_loader = DataLoader(dat, sampler=train_sampler, batch_size=64)\n",
    "val_loader = DataLoader(dat, sampler=val_sampler, batch_size=64)\n",
    "test_loader = DataLoader(dat, sampler=test_sampler, batch_size=64)"
   ]
  },
  {
   "cell_type": "markdown",
   "metadata": {},
   "source": [
    "Write helper functions to reduce boilerplate code. "
   ]
  },
  {
   "cell_type": "code",
   "execution_count": null,
   "metadata": {},
   "outputs": [],
   "source": [
    "def train_epoch(model, loader, optimizer, loss_fn, log=False):\n",
    "    model.train()\n",
    "    for images, responses in loader if not log else tqdm(loader):\n",
    "        optimizer.zero_grad()\n",
    "        outputs = model(images)\n",
    "        loss = loss_fn(outputs, responses)\n",
    "        loss.backward()\n",
    "        optimizer.step()\n",
    "    return model\n",
    "\n",
    "def get_correlations(model, loader):\n",
    "    \"\"\"\n",
    "    Calculates the correlation between the model's predictions and the actual responses.\n",
    "\n",
    "    Args:\n",
    "        model (torch.nn.Module): The trained model.\n",
    "        loader (torch.utils.data.DataLoader): The data loader containing the images and responses.\n",
    "\n",
    "    Returns:\n",
    "        float: The correlation between the model's predictions and the actual responses.\n",
    "    \"\"\"\n",
    "    resp, pred = [], []\n",
    "    model.eval()\n",
    "    for images, responses in loader:\n",
    "        outputs = model(images)\n",
    "        resp.append(responses.cpu().detach().numpy())\n",
    "        pred.append(outputs.cpu().detach().numpy())\n",
    "    resp = np.vstack(resp)\n",
    "    pred = np.vstack(pred)\n",
    "    return corr(resp, pred, dim=0)\n",
    "    "
   ]
  },
  {
   "cell_type": "markdown",
   "metadata": {},
   "source": [
    "# Let's make the model convolutional"
   ]
  },
  {
   "cell_type": "code",
   "execution_count": null,
   "metadata": {},
   "outputs": [],
   "source": [
    "class GaussianReadout(nn.Module):\n",
    "    def __init__(self, output_dim, channels, spatial_scale, std_scale):\n",
    "        super(GaussianReadout, self).__init__()\n",
    "        self.pos_mean = nn.Parameter(torch.zeros(output_dim, 1, 2))\n",
    "        self.pos_sqrt_cov = nn.Parameter(torch.zeros(output_dim, 2, 2))\n",
    "        \n",
    "        self.linear = nn.Parameter(torch.zeros(output_dim, channels))\n",
    "        self.bias = nn.Parameter(torch.zeros(output_dim))\n",
    "        \n",
    "        self.pos_sqrt_cov.data.uniform_(-std_scale, std_scale)\n",
    "        self.pos_mean.data.uniform_(-spatial_scale, spatial_scale)\n",
    "        self.linear.data.fill_(1./channels)        \n",
    "        \n",
    "        \n",
    "    def grid_positions(self, batch_size):\n",
    "        if self.training:\n",
    "            z = torch.randn(self.pos_mean.shape).to(self.pos_mean.device)\n",
    "            grid = self.pos_mean + torch.einsum('nuk, njk->nuj', z, self.pos_sqrt_cov)\n",
    "        else:\n",
    "            grid = self.pos_mean\n",
    "        grid = torch.clip(grid, -1, 1)\n",
    "        return grid.expand(batch_size, -1, -1, -1) \n",
    "            \n",
    "    def forward(self, x):\n",
    "        batch_size = x.shape[0]\n",
    "        grid = self.grid_positions(batch_size)\n",
    "        \n",
    "        # output will be batch_size x channels x neurons \n",
    "        x = torch.nn.functional.grid_sample(x, grid, align_corners=False).squeeze(-1)\n",
    "        x = torch.einsum('bcn,nc->bn', x, self.linear) + self.bias.view(1, -1)\n",
    "        return x\n",
    "    \n",
    "class ConvModel(nn.Module):\n",
    "    def __init__(self, layers, input_kern, hidden_kern, hidden_channels, output_dim, spatial_scale = 0.1, std_scale = 0.5):\n",
    "        super(ConvModel, self).__init__()\n",
    "        \n",
    "        self.conv_layers = nn.Sequential()\n",
    "        core_layers = [nn.Conv2d(1, hidden_channels, input_kern), nn.BatchNorm2d(hidden_channels), nn.SiLU()]\n",
    "        \n",
    "        for _ in range(layers - 1):\n",
    "            core_layers.extend([\n",
    "                nn.Conv2d(hidden_channels, hidden_channels, hidden_kern),\n",
    "                nn.BatchNorm2d(hidden_channels),\n",
    "                nn.ELU()\n",
    "            ]\n",
    "            )\n",
    "        self.core = nn.Sequential(*core_layers)\n",
    "        \n",
    "        # self.readout = FullGaussian2d((32, 18, 46), output_dim, bias=False)\n",
    "        \n",
    "        self.readout = GaussianReadout(output_dim, hidden_channels, spatial_scale=spatial_scale, std_scale=std_scale)\n",
    "        \n",
    "        \n",
    "    def forward(self, x):\n",
    "        x = self.core(x)\n",
    "        x = self.readout(x)\n",
    "        \n",
    "        return nn.functional.softplus(x)\n"
   ]
  },
  {
   "cell_type": "code",
   "execution_count": null,
   "metadata": {},
   "outputs": [],
   "source": [
    "model_m = ConvModel(layers=3, input_kern=11, hidden_kern=5, hidden_channels=32, output_dim=8372)\n",
    "model_m = model_m.to(device)\n",
    "loss = PoissonLoss() # use different loss\n",
    "optimizer = torch.optim.Adam(model_m.parameters(), lr=1e-3)\n",
    "\n",
    "epochs = 50\n",
    "for epoch in trange(epochs):\n",
    "    model = train_epoch(model_m, train_loader, optimizer, loss)\n",
    "    if epoch % 3 == 0:\n",
    "        train_corrs = get_correlations(model_m, train_loader)\n",
    "        val_corrs = get_correlations(model_m, val_loader)\n",
    "        print(f'Epoch [{epoch+1}/{epochs}], Validation correlation: {val_corrs.mean():.4f}, Training correlation: {train_corrs.mean():.4f}')"
   ]
  },
  {
   "cell_type": "markdown",
   "metadata": {},
   "source": [
    "Let's plot the correlations"
   ]
  },
  {
   "cell_type": "code",
   "execution_count": null,
   "metadata": {},
   "outputs": [],
   "source": [
    "train_corrs = get_correlations(model_m, train_loader)\n",
    "val_corrs = get_correlations(model_m, val_loader)\n"
   ]
  },
  {
   "cell_type": "code",
   "execution_count": null,
   "metadata": {},
   "outputs": [],
   "source": [
    "sns.set_context('notebook', font_scale=1.5)\n",
    "with sns.axes_style('ticks'):\n",
    "    fig, ax = plt.subplots(figsize=(8, 6))\n",
    "sns.histplot(val_corrs, kde=False, ax = ax, color=sns.xkcd_rgb['denim blue'], label='Validation')\n",
    "sns.histplot(train_corrs, kde=False, ax = ax, color='orange', label='Train')"
   ]
  },
  {
   "cell_type": "code",
   "execution_count": null,
   "metadata": {},
   "outputs": [],
   "source": []
  }
 ],
 "metadata": {
  "kernelspec": {
   "display_name": "Python 3",
   "language": "python",
   "name": "python3"
  },
  "language_info": {
   "codemirror_mode": {
    "name": "ipython",
    "version": 3
   },
   "file_extension": ".py",
   "mimetype": "text/x-python",
   "name": "python",
   "nbconvert_exporter": "python",
   "pygments_lexer": "ipython3",
   "version": "3.8.0"
  }
 },
 "nbformat": 4,
 "nbformat_minor": 2
}
