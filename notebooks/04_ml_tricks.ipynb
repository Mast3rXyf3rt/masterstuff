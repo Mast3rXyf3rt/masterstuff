{
 "cells": [
  {
   "cell_type": "code",
   "execution_count": 1,
   "metadata": {},
   "outputs": [],
   "source": [
    "%load_ext autoreload\n",
    "%autoreload 2"
   ]
  },
  {
   "cell_type": "code",
   "execution_count": 2,
   "metadata": {},
   "outputs": [
    {
     "name": "stdout",
     "output_type": "stream",
     "text": [
      "/notebooks\n"
     ]
    }
   ],
   "source": [
    "cd /notebooks/"
   ]
  },
  {
   "cell_type": "code",
   "execution_count": 3,
   "metadata": {},
   "outputs": [],
   "source": [
    "import numpy as np\n",
    "import torch\n",
    "import matplotlib.pyplot as plt\n",
    "from torch import nn\n",
    "from tqdm.notebook import trange, tqdm\n",
    "from digital_twin_library import SubsetSampler, corr\n",
    "import seaborn as sns\n",
    "from neuralpredictors.data.datasets import FileTreeDataset\n",
    "from neuralpredictors.measures.modules import PoissonLoss\n",
    "from torch.utils.data import DataLoader\n",
    "from digital_twin_library import *\n",
    "from torch.optim.lr_scheduler import ReduceLROnPlateau\n",
    "\n",
    "from neuralpredictors.data.transforms import (\n",
    "    ToTensor,\n",
    "    NeuroNormalizer,\n",
    "    ScaleInputs,\n",
    ")\n",
    "from neuralpredictors.data.samplers import RepeatsBatchSampler\n",
    "\n",
    "device = torch.device(\"cuda:0\" if torch.cuda.is_available() else \"cpu\")"
   ]
  },
  {
   "cell_type": "markdown",
   "metadata": {},
   "source": [
    "Configure the dataset, samplers and loaders"
   ]
  },
  {
   "cell_type": "code",
   "execution_count": 4,
   "metadata": {},
   "outputs": [],
   "source": [
    "root_dir = 'data/static21067-10-18-GrayImageNet-94c6ff995dac583098847cfecd43e7b6'\n",
    "dat = FileTreeDataset(root_dir, 'images', 'responses')\n",
    "\n",
    "transforms = [ScaleInputs(scale=0.25), ToTensor(torch.cuda.is_available())]\n",
    "transforms.insert(0, NeuroNormalizer(dat))\n",
    "dat.transforms.extend(transforms)\n",
    "\n",
    "train_sampler = SubsetSampler(dat.trial_info.tiers == 'train', shuffle=True)\n",
    "test_sampler = SubsetSampler(dat.trial_info.tiers == 'test', shuffle=False)\n",
    "val_sampler = SubsetSampler(dat.trial_info.tiers == 'validation', shuffle=False)\n",
    "\n",
    "train_loader = DataLoader(dat, sampler=train_sampler, batch_size=64)\n",
    "val_loader = DataLoader(dat, sampler=val_sampler, batch_size=64)\n",
    "test_loader = DataLoader(dat, sampler=test_sampler, batch_size=64)"
   ]
  },
  {
   "cell_type": "markdown",
   "metadata": {},
   "source": [
    "# Early stopping and learning rate scheduler"
   ]
  },
  {
   "cell_type": "code",
   "execution_count": 7,
   "metadata": {},
   "outputs": [
    {
     "data": {
      "application/vnd.jupyter.widget-view+json": {
       "model_id": "d1131d34803e4aa294ca59bfd83e7f4c",
       "version_major": 2,
       "version_minor": 0
      },
      "text/plain": [
       "HBox(children=(HTML(value=''), FloatProgress(value=0.0), HTML(value='')))"
      ]
     },
     "metadata": {},
     "output_type": "display_data"
    },
    {
     "name": "stdout",
     "output_type": "stream",
     "text": [
      "Epoch [1/100], validation correlation: 0.0362\n",
      "Epoch [2/100], validation correlation: 0.0555\n",
      "Epoch [3/100], validation correlation: 0.0674\n",
      "Epoch [4/100], validation correlation: 0.0820\n",
      "Epoch [5/100], validation correlation: 0.0871\n",
      "Epoch [6/100], validation correlation: 0.0891\n",
      "Epoch [7/100], validation correlation: 0.0959\n",
      "Epoch [8/100], validation correlation: 0.1056\n",
      "Epoch [9/100], validation correlation: 0.1120\n",
      "Epoch [10/100], validation correlation: 0.1125\n",
      "Epoch [11/100], validation correlation: 0.1251\n",
      "Epoch [12/100], validation correlation: 0.1228\n",
      "Epoch [13/100], validation correlation: 0.1370\n",
      "Epoch [14/100], validation correlation: 0.1434\n",
      "Epoch [15/100], validation correlation: 0.1482\n",
      "Epoch [16/100], validation correlation: 0.1563\n",
      "Epoch [17/100], validation correlation: 0.1570\n",
      "Epoch [18/100], validation correlation: 0.1656\n",
      "Epoch [19/100], validation correlation: 0.1693\n",
      "Epoch [20/100], validation correlation: 0.1761\n",
      "Epoch [21/100], validation correlation: 0.1725\n",
      "Epoch [22/100], validation correlation: 0.1839\n",
      "Epoch [23/100], validation correlation: 0.1812\n",
      "Epoch [24/100], validation correlation: 0.1842\n",
      "Epoch [25/100], validation correlation: 0.1911\n",
      "Epoch [26/100], validation correlation: 0.1950\n",
      "Epoch [27/100], validation correlation: 0.1995\n",
      "Epoch [28/100], validation correlation: 0.1997\n",
      "Epoch [29/100], validation correlation: 0.2029\n",
      "Epoch [30/100], validation correlation: 0.2043\n",
      "Epoch [31/100], validation correlation: 0.2087\n",
      "Epoch [32/100], validation correlation: 0.2089\n",
      "Epoch [33/100], validation correlation: 0.2088\n",
      "Epoch [34/100], validation correlation: 0.2104\n",
      "Epoch [35/100], validation correlation: 0.2184\n",
      "Epoch [36/100], validation correlation: 0.2206\n",
      "Epoch [37/100], validation correlation: 0.2184\n",
      "Epoch [38/100], validation correlation: 0.2242\n",
      "Epoch [39/100], validation correlation: 0.2258\n",
      "Epoch [40/100], validation correlation: 0.2257\n",
      "Epoch [41/100], validation correlation: 0.2278\n",
      "Epoch [42/100], validation correlation: 0.2305\n",
      "Epoch [43/100], validation correlation: 0.2314\n",
      "Epoch [44/100], validation correlation: 0.2311\n",
      "Epoch [45/100], validation correlation: 0.2345\n",
      "Epoch [46/100], validation correlation: 0.2355\n",
      "Epoch [47/100], validation correlation: 0.2357\n",
      "Epoch [48/100], validation correlation: 0.2361\n",
      "Epoch [49/100], validation correlation: 0.2385\n",
      "Epoch [50/100], validation correlation: 0.2403\n",
      "Epoch [51/100], validation correlation: 0.2392\n",
      "Epoch [52/100], validation correlation: 0.2420\n",
      "Epoch [53/100], validation correlation: 0.2417\n",
      "Epoch [54/100], validation correlation: 0.2429\n",
      "Epoch [55/100], validation correlation: 0.2428\n",
      "Epoch [56/100], validation correlation: 0.2438\n",
      "Epoch [57/100], validation correlation: 0.2430\n",
      "Epoch [58/100], validation correlation: 0.2469\n",
      "Epoch [59/100], validation correlation: 0.2473\n",
      "Epoch [60/100], validation correlation: 0.2475\n",
      "Epoch [61/100], validation correlation: 0.2442\n",
      "Epoch [62/100], validation correlation: 0.2493\n",
      "Epoch [63/100], validation correlation: 0.2473\n",
      "Epoch [64/100], validation correlation: 0.2488\n",
      "Epoch [65/100], validation correlation: 0.2489\n",
      "Epoch    66: reducing learning rate of group 0 to 1.0000e-04.\n",
      "Epoch [66/100], validation correlation: 0.2490\n",
      "Epoch [67/100], validation correlation: 0.2519\n",
      "Epoch [68/100], validation correlation: 0.2518\n",
      "Epoch [69/100], validation correlation: 0.2518\n",
      "Epoch [70/100], validation correlation: 0.2519\n",
      "Epoch    71: reducing learning rate of group 0 to 1.0000e-05.\n",
      "Epoch [71/100], validation correlation: 0.2515\n",
      "Epoch [72/100], validation correlation: 0.2518\n",
      "Early stopping triggered!\n",
      "\n"
     ]
    }
   ],
   "source": [
    "# Define the early stopping criteria\n",
    "early_stopping_patience = 5\n",
    "early_stopping_counter = 0\n",
    "best_val_loss = float('-inf')\n",
    "\n",
    "model = ConvModel(layers=3, input_kern=11, hidden_kern=5, hidden_channels=32, output_dim=8372)\n",
    "model = model.to(device)\n",
    "poisson_loss = PoissonLoss() # use different loss\n",
    "gamma = 1e-4\n",
    "loss_fn = lambda outputs, targets: poisson_loss(outputs, targets) + gamma * model.regularizer()\n",
    "\n",
    "optimizer = torch.optim.Adam(model.parameters(), lr=1e-3)\n",
    "\n",
    "# Define the learning rate schedule\n",
    "lr_scheduler = ReduceLROnPlateau(optimizer, mode='max', factor=0.1, patience=3, verbose=True)\n",
    "\n",
    "# Define the number of epochs\n",
    "epochs = 100\n",
    "\n",
    "for epoch in trange(epochs):\n",
    "    # Training loop\n",
    "    loss = train_epoch(model, train_loader, optimizer, loss_fn)\n",
    "    \n",
    "    # Validation loop\n",
    "    with torch.no_grad():\n",
    "        val_corrs = get_correlations(model, val_loader)\n",
    "    validation_correlation = val_corrs.mean()\n",
    "    \n",
    "    # Update learning rate schedule\n",
    "    lr_scheduler.step(validation_correlation)\n",
    "    \n",
    "    # Print training and validation losses\n",
    "    print(f'Epoch [{epoch+1}/{epochs}], validation correlation: {validation_correlation:.4f}')\n",
    "    \n",
    "    # Check for early stopping\n",
    "    if validation_correlation > best_val_loss:\n",
    "        best_val_loss = validation_correlation\n",
    "        early_stopping_counter = 0\n",
    "    else:\n",
    "        early_stopping_counter += 1\n",
    "        if early_stopping_counter >= early_stopping_patience:\n",
    "            print('Early stopping triggered!')\n",
    "            break\n"
   ]
  },
  {
   "cell_type": "markdown",
   "metadata": {},
   "source": [
    "Plot the correlations"
   ]
  },
  {
   "cell_type": "code",
   "execution_count": 9,
   "metadata": {},
   "outputs": [],
   "source": [
    "with torch.no_grad():\n",
    "    train_corrs = get_correlations(model, train_loader)\n",
    "    val_corrs = get_correlations(model, val_loader)\n"
   ]
  },
  {
   "cell_type": "code",
   "execution_count": 10,
   "metadata": {},
   "outputs": [
    {
     "data": {
      "text/plain": [
       "<AxesSubplot:ylabel='Count'>"
      ]
     },
     "execution_count": 10,
     "metadata": {},
     "output_type": "execute_result"
    },
    {
     "data": {
      "image/png": "[encoded data removed]",
      "text/plain": [
       "<Figure size 576x432 with 1 Axes>"
      ]
     },
     "metadata": {},
     "output_type": "display_data"
    }
   ],
   "source": [
    "sns.set_context('notebook', font_scale=1.5)\n",
    "with sns.axes_style('ticks'):\n",
    "    fig, ax = plt.subplots(figsize=(8, 6))\n",
    "sns.histplot(val_corrs, kde=False, ax = ax, color=sns.xkcd_rgb['denim blue'], label='Validation')\n",
    "sns.histplot(train_corrs, kde=False, ax = ax, color='orange', label='Train')"
   ]
  },
  {
   "cell_type": "markdown",
   "metadata": {},
   "source": [
    "# Save the model"
   ]
  },
  {
   "cell_type": "code",
   "execution_count": null,
   "metadata": {},
   "outputs": [],
   "source": [
    "torch.save(model.state_dict(), 'models/model.pt')\n"
   ]
  }
 ],
 "metadata": {
  "kernelspec": {
   "display_name": "Python 3",
   "language": "python",
   "name": "python3"
  },
  "language_info": {
   "codemirror_mode": {
    "name": "ipython",
    "version": 3
   },
   "file_extension": ".py",
   "mimetype": "text/x-python",
   "name": "python",
   "nbconvert_exporter": "python",
   "pygments_lexer": "ipython3",
   "version": "3.8.0"
  }
 },
 "nbformat": 4,
 "nbformat_minor": 2
}
